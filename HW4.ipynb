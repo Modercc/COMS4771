{
  "nbformat": 4,
  "nbformat_minor": 0,
  "metadata": {
    "colab": {
      "name": "HW4.ipynb",
      "provenance": [],
      "authorship_tag": "ABX9TyPaVKnKE/4i+kmlbRiQkwOK",
      "include_colab_link": true
    },
    "kernelspec": {
      "name": "python3",
      "display_name": "Python 3"
    },
    "language_info": {
      "name": "python"
    }
  },
  "cells": [
    {
      "cell_type": "markdown",
      "metadata": {
        "id": "view-in-github",
        "colab_type": "text"
      },
      "source": [
        "<a href=\"https://colab.research.google.com/github/Modercc/COMS4771/blob/main/HW4.ipynb\" target=\"_parent\"><img src=\"https://colab.research.google.com/assets/colab-badge.svg\" alt=\"Open In Colab\"/></a>"
      ]
    },
    {
      "cell_type": "code",
      "execution_count": null,
      "metadata": {
        "colab": {
          "base_uri": "https://localhost:8080/"
        },
        "id": "cNVIjeQql8UJ",
        "outputId": "b58e84b0-97ed-4bc8-8692-67005438a490"
      },
      "outputs": [
        {
          "output_type": "stream",
          "name": "stdout",
          "text": [
            "[[   0.            0.        ]\n",
            " [   0.          206.        ]\n",
            " [  96.82177063  417.93090615]\n",
            " [ 478.61037813 1423.99447196]\n",
            " [ 831.16703783  199.4902038 ]\n",
            " [2617.61964141 -917.42839817]\n",
            " [2959.94862953 -204.58275913]\n",
            " [2845.59918306  180.87239466]\n",
            " [1797.26139923   26.80327872]]\n",
            "[[   0.          206.          428.99964753 1502.27432588  854.77189132\n",
            "  2773.73528889 2967.01027885 2851.34170764 1797.46125214]\n",
            " [ 206.            0.          233.00035247 1308.6551982   831.19253017\n",
            "  2848.51258605 2988.28949259 2845.71012353 1806.17274979]\n",
            " [ 428.99964753  233.00035247    0.         1076.06990445  766.14575108\n",
            "  2852.64901047 2930.0202514  2758.98060902 1744.8426151 ]\n",
            " [1502.27432588 1308.6551982  1076.06990445    0.         1274.24758232\n",
            "  3171.37536175 2968.04705412 2673.57223611 1921.193313  ]\n",
            " [ 854.77189132  831.19253017  766.14575108 1274.24758232    0.\n",
            "  2106.87447852 2166.79164308 2014.51817826  981.40668901]\n",
            " [2773.73528889 2848.51258605 2852.64901047 3171.37536175 2106.87447852\n",
            "     0.          790.78318217 1121.71266506 1250.82417035]\n",
            " [2967.01027885 2988.28949259 2930.0202514  2968.04705412 2166.79164308\n",
            "   790.78318217    0.          402.05903981 1185.48770302]\n",
            " [2851.34170764 2845.71012353 2758.98060902 2673.57223611 2014.51817826\n",
            "  1121.71266506  402.05903981    0.         1059.59869832]\n",
            " [1797.46125214 1806.17274979 1744.8426151  1921.193313    981.40668901\n",
            "  1250.82417035 1185.48770302 1059.59869832    0.        ]]\n"
          ]
        }
      ],
      "source": [
        "import numpy as np\n",
        "import matplotlib.pyplot as plt\n",
        "import math\n",
        "\n",
        "iterations = 100000\n",
        "stopping_threshold = 1e-10\n",
        "base_lr = 0.005\n",
        "max_lr = 0.01\n",
        "step_size = 2000\n",
        "\n",
        "def dist(x1, x2):\n",
        "    d = math.sqrt((x1[0] - x2[0])**2 + (x1[1] - x2[1])**2)\n",
        "    return d\n",
        "\n",
        "def squared_error(x, D, k, coor):\n",
        "    err = 0\n",
        "    for i in range(k):\n",
        "      err += (dist(x[i], coor) - D[i][k])**2\n",
        "    return err\n",
        "\n",
        "def calculate_derivative(x, D, k, coor):\n",
        "    der_lat = 0\n",
        "    der_lon = 0\n",
        "    for i in range(k):\n",
        "        d = dist(x[i], coor)\n",
        "        der_lat += (2 * (d - D[i][k]) * (coor[0] - x[i][0]) / d)\n",
        "        der_lon += (2 * (d - D[i][k]) * (coor[1] - x[i][1]) / d)\n",
        "    return (der_lat, der_lon)\n",
        "\n",
        "def get_lr(it):\n",
        "  cycle = np.floor(1+it/(2*step_size))\n",
        "  x = np.abs(it/step_size - 2*cycle + 1)\n",
        "  return base_lr + (max_lr-base_lr)*np.maximum(0, (1-x))/float(2**(cycle-1))\n",
        "\n",
        "def gradient_decent(x, D, k):\n",
        "    lat = 500\n",
        "    lon = 500\n",
        "    costs = []\n",
        "    previous_cost = None\n",
        "    for i in range(iterations):\n",
        "        learning_rate = get_lr(i)\n",
        "        current_cost = squared_error(x, D, k, [lat, lon])\n",
        "        if previous_cost and abs(current_cost - previous_cost) <= stopping_threshold:\n",
        "          break\n",
        "        previous_cost = current_cost\n",
        "        costs.append(current_cost)\n",
        "        (der_lat, der_lon) = calculate_derivative(x, D, k, (lat, lon))\n",
        "        lat = lat - learning_rate * der_lat\n",
        "        lon = lon - learning_rate * der_lon\n",
        "    return [lat, lon]\n",
        "\n",
        "D = np.array([[0, 206, 429, 1504, 963, 2976, 3095, 2979, 1949],\n",
        "             [206, 0, 233, 1308, 802, 2815, 2934, 2786, 1771],\n",
        "             [429, 233, 0, 1075, 671, 2684, 2799, 2631, 1616],\n",
        "             [1504, 1308, 1075, 0, 1329, 3273, 3053, 2687, 2037],\n",
        "             [963, 802, 671, 1329, 0, 2013, 2142, 2054, 996],\n",
        "             [2976, 2815, 2684, 3273, 2013, 0, 808, 1131, 1307],\n",
        "             [3095, 2934, 2799, 3053, 2142, 808, 0, 379, 1235],\n",
        "             [2979, 2786, 2631, 2687, 2054, 1131, 379, 0, 1059],\n",
        "             [1949, 1771, 1616, 2037, 996, 1307, 1235, 1059, 0]])\n",
        "\n",
        "x = np.array([[0, 0],\n",
        "              [0, 206]])\n",
        "\n",
        "for i in range(2, 9):\n",
        "    x = np.append(x, [gradient_decent(x, D, i)], axis=0)\n",
        "print(x)\n",
        "D2 = np.empty((9, 9))\n",
        "for i in range(9):\n",
        "  for j in range(9):\n",
        "    D2[i][j] = dist(x[i], x[j])\n",
        "print(D2)"
      ]
    }
  ]
}